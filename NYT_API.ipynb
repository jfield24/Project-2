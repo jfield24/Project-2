{
 "cells": [
  {
   "cell_type": "code",
   "execution_count": 1,
   "metadata": {},
   "outputs": [],
   "source": [
    "# Dependencies\n",
    "import requests\n",
    "from pprint import pprint\n",
    "from config import api_key\n",
    "import pandas as pd\n",
    "import time\n",
    "from datetime import datetime, date\n",
    "from dateutil.relativedelta import relativedelta, MO\n",
    "import matplotlib.pyplot as plt\n",
    "url = \"https://api.nytimes.com/svc/search/v2/articlesearch.json?\"\n",
    "#https://api.nytimes.com/svc/search/v2/articlesearch.json?q=election&api-key=yourkey\n",
    "company = \"Netflix\""
   ]
  },
  {
   "cell_type": "code",
   "execution_count": 2,
   "metadata": {},
   "outputs": [],
   "source": [
    "# Search for articles that mention company name\n",
    "query = company"
   ]
  },
  {
   "cell_type": "code",
   "execution_count": 3,
   "metadata": {},
   "outputs": [],
   "source": [
    "# Build query URL\n",
    "query_url = url +\"q=\" + query + \"&fq=news_desk:(Business)&page=0&sort=newest&api-key=\" + api_key\n",
    "#print(query_url)"
   ]
  },
  {
   "cell_type": "code",
   "execution_count": 4,
   "metadata": {},
   "outputs": [],
   "source": [
    "# Request articles\n",
    "articles = requests.get(query_url).json()\n",
    "\n",
    "# The \"response\" property in articles contains the actual articles\n",
    "# list comprehension.\n",
    "articles_list = articles[\"response\"][\"docs\"]\n"
   ]
  },
  {
   "cell_type": "code",
   "execution_count": 5,
   "metadata": {},
   "outputs": [],
   "source": [
    "# Store top 5 articles urls and names\n",
    "web_urls = []\n",
    "for article in articles_list[:5]:\n",
    "    web_urls.append(\"https://www.nytimes.com/\" + article[\"multimedia\"][0][\"url\"])\n",
    "article_names = []\n",
    "\n",
    "for article in articles_list[:5]:\n",
    "    article_names.append(article[\"headline\"][\"main\"])\n",
    "    \n",
    "article_image_urls = []\n",
    "for x in range(len(web_urls)):\n",
    "    article_image_urls.append({'title':article_names[x], 'img_url': web_urls[x]})"
   ]
  },
  {
   "cell_type": "code",
   "execution_count": 6,
   "metadata": {},
   "outputs": [
    {
     "data": {
      "text/plain": [
       "[{'title': 'Quibi Is Dead, but Roku May Resurrect Its Content',\n",
       "  'img_url': 'https://www.nytimes.com/images/2021/01/04/business/04ECON-BRIEFING-QUIBI/04ECON-BRIEFING-QUIBI-articleLarge.jpg'},\n",
       " {'title': 'Will You Pay to Stream Comfort Shows? Discovery Is About to Find Out',\n",
       "  'img_url': 'https://www.nytimes.com/images/2021/01/04/business/00JPDiscovery-streaming1-print/merlin_181779237_fe8bf584-1aa6-4967-ac0c-1826d3f6342d-articleLarge.jpg'},\n",
       " {'title': 'A Sci-Fi Dreamer’s Poisoning Death Shocks China',\n",
       "  'img_url': 'https://www.nytimes.com/images/2021/01/02/business/31JPchina-poison-print/merlin_181829496_6986f26c-9eb9-4132-b3e0-8145649fefb2-articleLarge.jpg'},\n",
       " {'title': 'Managing Movie Superheroes Is About to Get a Lot More Complicated',\n",
       "  'img_url': 'https://www.nytimes.com/images/2020/12/27/business/27superheroes-1/27superheroes-1-articleLarge-v2.jpg'},\n",
       " {'title': 'An Oscar Winner Made a Khashoggi Documentary. Streaming Services Didn’t Want It.',\n",
       "  'img_url': 'https://www.nytimes.com/images/2020/12/24/business/24dissident-1/merlin_181632975_5b03a944-265e-43cc-b734-80d3b725b4a1-articleLarge.jpg'}]"
      ]
     },
     "execution_count": 6,
     "metadata": {},
     "output_type": "execute_result"
    }
   ],
   "source": [
    "article_image_urls"
   ]
  },
  {
   "cell_type": "code",
   "execution_count": 7,
   "metadata": {},
   "outputs": [],
   "source": [
    "feature_article = articles_list[0]"
   ]
  },
  {
   "cell_type": "code",
   "execution_count": 8,
   "metadata": {},
   "outputs": [],
   "source": [
    "feature_article_url = feature_article[\"web_url\"]\n",
    "feature_article_name = feature_article[\"headline\"][\"main\"]\n",
    "feature_image_link = \"https://www.nytimes.com/\" + feature_article[\"multimedia\"][0][\"url\"]\n",
    "feature_article_lead = feature_article[\"lead_paragraph\"]"
   ]
  },
  {
   "cell_type": "code",
   "execution_count": 9,
   "metadata": {},
   "outputs": [],
   "source": [
    "stock_data = {\n",
    "\"feature_title\": feature_article_name,\n",
    "\"feature_p\": feature_article_lead,\n",
    "\"feature_link\": feature_article_url,\n",
    "\"featured_image_url\": feature_image_link,\n",
    "\"article_image_urls\": article_image_urls\n",
    "}"
   ]
  },
  {
   "cell_type": "code",
   "execution_count": 10,
   "metadata": {},
   "outputs": [
    {
     "data": {
      "text/plain": [
       "{'feature_title': 'Quibi Is Dead, but Roku May Resurrect Its Content',\n",
       " 'feature_p': 'Quibi was the biggest bust of the streaming boom. But it has something Roku wants — more than 100 original programs.',\n",
       " 'feature_link': 'https://www.nytimes.com/2021/01/04/business/media/04economy-briefing-quibi-sale-content-roku.html',\n",
       " 'featured_image_url': 'https://www.nytimes.com/images/2021/01/04/business/04ECON-BRIEFING-QUIBI/04ECON-BRIEFING-QUIBI-articleLarge.jpg',\n",
       " 'article_image_urls': [{'title': 'Quibi Is Dead, but Roku May Resurrect Its Content',\n",
       "   'img_url': 'https://www.nytimes.com/images/2021/01/04/business/04ECON-BRIEFING-QUIBI/04ECON-BRIEFING-QUIBI-articleLarge.jpg'},\n",
       "  {'title': 'Will You Pay to Stream Comfort Shows? Discovery Is About to Find Out',\n",
       "   'img_url': 'https://www.nytimes.com/images/2021/01/04/business/00JPDiscovery-streaming1-print/merlin_181779237_fe8bf584-1aa6-4967-ac0c-1826d3f6342d-articleLarge.jpg'},\n",
       "  {'title': 'A Sci-Fi Dreamer’s Poisoning Death Shocks China',\n",
       "   'img_url': 'https://www.nytimes.com/images/2021/01/02/business/31JPchina-poison-print/merlin_181829496_6986f26c-9eb9-4132-b3e0-8145649fefb2-articleLarge.jpg'},\n",
       "  {'title': 'Managing Movie Superheroes Is About to Get a Lot More Complicated',\n",
       "   'img_url': 'https://www.nytimes.com/images/2020/12/27/business/27superheroes-1/27superheroes-1-articleLarge-v2.jpg'},\n",
       "  {'title': 'An Oscar Winner Made a Khashoggi Documentary. Streaming Services Didn’t Want It.',\n",
       "   'img_url': 'https://www.nytimes.com/images/2020/12/24/business/24dissident-1/merlin_181632975_5b03a944-265e-43cc-b734-80d3b725b4a1-articleLarge.jpg'}]}"
      ]
     },
     "execution_count": 10,
     "metadata": {},
     "output_type": "execute_result"
    }
   ],
   "source": [
    "stock_data"
   ]
  },
  {
   "cell_type": "code",
   "execution_count": 11,
   "metadata": {},
   "outputs": [
    {
     "data": {
      "text/html": [
       "<div>\n",
       "<style scoped>\n",
       "    .dataframe tbody tr th:only-of-type {\n",
       "        vertical-align: middle;\n",
       "    }\n",
       "\n",
       "    .dataframe tbody tr th {\n",
       "        vertical-align: top;\n",
       "    }\n",
       "\n",
       "    .dataframe thead th {\n",
       "        text-align: right;\n",
       "    }\n",
       "</style>\n",
       "<table border=\"1\" class=\"dataframe\">\n",
       "  <thead>\n",
       "    <tr style=\"text-align: right;\">\n",
       "      <th></th>\n",
       "      <th>Date</th>\n",
       "    </tr>\n",
       "  </thead>\n",
       "  <tbody>\n",
       "    <tr>\n",
       "      <th>0</th>\n",
       "      <td>1/01/2010</td>\n",
       "    </tr>\n",
       "    <tr>\n",
       "      <th>1</th>\n",
       "      <td>1/01/2011</td>\n",
       "    </tr>\n",
       "    <tr>\n",
       "      <th>2</th>\n",
       "      <td>1/01/2012</td>\n",
       "    </tr>\n",
       "    <tr>\n",
       "      <th>3</th>\n",
       "      <td>1/01/2013</td>\n",
       "    </tr>\n",
       "    <tr>\n",
       "      <th>4</th>\n",
       "      <td>1/01/2014</td>\n",
       "    </tr>\n",
       "  </tbody>\n",
       "</table>\n",
       "</div>"
      ],
      "text/plain": [
       "        Date\n",
       "0  1/01/2010\n",
       "1  1/01/2011\n",
       "2  1/01/2012\n",
       "3  1/01/2013\n",
       "4  1/01/2014"
      ]
     },
     "execution_count": 11,
     "metadata": {},
     "output_type": "execute_result"
    }
   ],
   "source": [
    "articles_df = pd.read_csv('articles.csv')\n",
    "articles_df.head()"
   ]
  },
  {
   "cell_type": "code",
   "execution_count": 12,
   "metadata": {},
   "outputs": [],
   "source": [
    "articles_df[\"Articles\"] = ''\n",
    "for index, row in articles_df.iterrows():\n",
    "    try:\n",
    "        query = company\n",
    "        date = datetime.strptime(row['Date'], '%d/%m/%Y').date()\n",
    "        begin_date = date.strftime('%Y%m%d')\n",
    "        end_date = (date + relativedelta(years=+1)).strftime('%Y%m%d')\n",
    "        url = f\"https://api.nytimes.com/svc/search/v2/articlesearch.json?api-key={api_key}&q={query}&begin_date={begin_date}&end_date={end_date}\"\n",
    "        #print(url)\n",
    "        article = requests.get(url).json()\n",
    "        time.sleep(2)\n",
    "        articles_df.loc[index, \"Articles\"] = article['response']['meta']['hits']\n",
    "        \n",
    "    except KeyError:\n",
    "        print (f\"{begin_date} - Cannot Search\")\n",
    "\n",
    "    "
   ]
  },
  {
   "cell_type": "code",
   "execution_count": 13,
   "metadata": {},
   "outputs": [
    {
     "data": {
      "text/html": [
       "<div>\n",
       "<style scoped>\n",
       "    .dataframe tbody tr th:only-of-type {\n",
       "        vertical-align: middle;\n",
       "    }\n",
       "\n",
       "    .dataframe tbody tr th {\n",
       "        vertical-align: top;\n",
       "    }\n",
       "\n",
       "    .dataframe thead th {\n",
       "        text-align: right;\n",
       "    }\n",
       "</style>\n",
       "<table border=\"1\" class=\"dataframe\">\n",
       "  <thead>\n",
       "    <tr style=\"text-align: right;\">\n",
       "      <th></th>\n",
       "      <th>Date</th>\n",
       "      <th>Articles</th>\n",
       "    </tr>\n",
       "  </thead>\n",
       "  <tbody>\n",
       "    <tr>\n",
       "      <th>0</th>\n",
       "      <td>1/01/2010</td>\n",
       "      <td>244</td>\n",
       "    </tr>\n",
       "    <tr>\n",
       "      <th>1</th>\n",
       "      <td>1/01/2011</td>\n",
       "      <td>362</td>\n",
       "    </tr>\n",
       "    <tr>\n",
       "      <th>2</th>\n",
       "      <td>1/01/2012</td>\n",
       "      <td>299</td>\n",
       "    </tr>\n",
       "    <tr>\n",
       "      <th>3</th>\n",
       "      <td>1/01/2013</td>\n",
       "      <td>470</td>\n",
       "    </tr>\n",
       "    <tr>\n",
       "      <th>4</th>\n",
       "      <td>1/01/2014</td>\n",
       "      <td>678</td>\n",
       "    </tr>\n",
       "  </tbody>\n",
       "</table>\n",
       "</div>"
      ],
      "text/plain": [
       "        Date Articles\n",
       "0  1/01/2010      244\n",
       "1  1/01/2011      362\n",
       "2  1/01/2012      299\n",
       "3  1/01/2013      470\n",
       "4  1/01/2014      678"
      ]
     },
     "execution_count": 13,
     "metadata": {},
     "output_type": "execute_result"
    }
   ],
   "source": [
    "articles_df.head()"
   ]
  },
  {
   "cell_type": "code",
   "execution_count": 15,
   "metadata": {},
   "outputs": [],
   "source": [
    "newfile = articles_df.to_json"
   ]
  },
  {
   "cell_type": "code",
   "execution_count": 16,
   "metadata": {},
   "outputs": [
    {
     "data": {
      "text/plain": [
       "<bound method NDFrame.to_json of          Date Articles\n",
       "0   1/01/2010      244\n",
       "1   1/01/2011      362\n",
       "2   1/01/2012      299\n",
       "3   1/01/2013      470\n",
       "4   1/01/2014      678\n",
       "5   1/01/2015      734\n",
       "6   1/01/2016      968\n",
       "7   1/01/2017     1390\n",
       "8   1/01/2018     1807\n",
       "9   1/01/2019     1991\n",
       "10  1/01/2020     2067\n",
       "11  1/01/2021       35\n",
       "12  1/01/2022        0>"
      ]
     },
     "execution_count": 16,
     "metadata": {},
     "output_type": "execute_result"
    }
   ],
   "source": [
    "newfile"
   ]
  },
  {
   "cell_type": "code",
   "execution_count": 17,
   "metadata": {},
   "outputs": [
    {
     "data": {
      "image/png": "[encoded data removed]",
      "text/plain": [
       "<Figure size 432x288 with 1 Axes>"
      ]
     },
     "metadata": {
      "needs_background": "light"
     },
     "output_type": "display_data"
    }
   ],
   "source": [
    "articles_df['Date'] = pd.to_datetime(articles_df['Date'])\n",
    "articles_df.sort_values('Date', inplace=True)\n",
    "\n",
    "articles_df['Articles'] = pd.to_numeric(articles_df['Articles'])\n",
    "\n",
    "articles_df = articles_df.fillna(0)\n",
    "\n",
    "plt.plot(articles_df[articles_df.columns[0]],articles_df[articles_df.columns[1]], color = \"darkviolet\", marker =\"o\")\n",
    "\n",
    "plt.xlabel(\"Date\")\n",
    "plt.ylabel(\"Number of Article Hits\")\n",
    "plt.title(f\"Article Hits in the New York times for {company} over a period of time\")\n",
    "plt.xticks(rotation = 45)\n",
    "\n",
    "plt.tight_layout()\n",
    "# Show the chart\n",
    "plt.show()"
   ]
  },
  {
   "cell_type": "code",
   "execution_count": null,
   "metadata": {},
   "outputs": [],
   "source": []
  }
 ],
 "metadata": {
  "kernelspec": {
   "display_name": "Python 3",
   "language": "python",
   "name": "python3"
  },
  "language_info": {
   "codemirror_mode": {
    "name": "ipython",
    "version": 3
   },
   "file_extension": ".py",
   "mimetype": "text/x-python",
   "name": "python",
   "nbconvert_exporter": "python",
   "pygments_lexer": "ipython3",
   "version": "3.6.10"
  },
  "latex_envs": {
   "LaTeX_envs_menu_present": true,
   "autoclose": false,
   "autocomplete": true,
   "bibliofile": "biblio.bib",
   "cite_by": "apalike",
   "current_citInitial": 1,
   "eqLabelWithNumbers": true,
   "eqNumInitial": 1,
   "hotkeys": {
    "equation": "Ctrl-E",
    "itemize": "Ctrl-I"
   },
   "labels_anchors": false,
   "latex_user_defs": false,
   "report_style_numbering": false,
   "user_envs_cfg": false
  },
  "varInspector": {
   "cols": {
    "lenName": 16,
    "lenType": 16,
    "lenVar": 40
   },
   "kernels_config": {
    "python": {
     "delete_cmd_postfix": "",
     "delete_cmd_prefix": "del ",
     "library": "var_list.py",
     "varRefreshCmd": "print(var_dic_list())"
    },
    "r": {
     "delete_cmd_postfix": ") ",
     "delete_cmd_prefix": "rm(",
     "library": "var_list.r",
     "varRefreshCmd": "cat(var_dic_list()) "
    }
   },
   "types_to_exclude": [
    "module",
    "function",
    "builtin_function_or_method",
    "instance",
    "_Feature"
   ],
   "window_display": false
  }
 },
 "nbformat": 4,
 "nbformat_minor": 4
}
